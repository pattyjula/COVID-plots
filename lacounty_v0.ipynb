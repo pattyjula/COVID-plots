{
 "cells": [
  {
   "cell_type": "markdown",
   "metadata": {},
   "source": [
    "# Webscraping from LA County COVID-19 Site and Creating Plot\n",
    "- Patty Jula, <pattyjula@gmail.com>\n",
    "\n",
    "LA County Public Health has been providing daily counts of the number of cases and rates Los Angeles County from COVID-19. This script provides a way to download the day's counts, load to a database, in this case a CSV, and create a plot. \n",
    "\n",
    "Source: <http://publichealth.lacounty.gov/media/Coronavirus/locations.htm>\n",
    "## Note:\n",
    "This type of webscraping is only available from sites that reveal their source code. The best practice is to ask permission before scraping so an organization's servers are not overloaded."
   ]
  },
  {
   "cell_type": "code",
   "execution_count": 82,
   "metadata": {},
   "outputs": [],
   "source": [
    "# Dependencies\n",
    "from bs4 import BeautifulSoup\n",
    "import pandas as pd\n",
    "import numpy as np\n",
    "import requests"
   ]
  },
  {
   "cell_type": "code",
   "execution_count": 83,
   "metadata": {},
   "outputs": [],
   "source": [
    "# Boilerplate code\n",
    "url = 'http://publichealth.lacounty.gov/media/Coronavirus/locations.htm'\n",
    "res = requests.get(url)\n",
    "html_page = res.content"
   ]
  },
  {
   "cell_type": "markdown",
   "metadata": {},
   "source": [
    "## Parse through the html"
   ]
  },
  {
   "cell_type": "code",
   "execution_count": 84,
   "metadata": {},
   "outputs": [],
   "source": [
    "soup = BeautifulSoup(html_page, 'html.parser')\n",
    "#print(soup.prettify())\n"
   ]
  },
  {
   "cell_type": "markdown",
   "metadata": {},
   "source": [
    "## Load data to a Pandas dataframe"
   ]
  },
  {
   "cell_type": "code",
   "execution_count": 95,
   "metadata": {},
   "outputs": [],
   "source": [
    "# column names\n",
    "column = ['location', 'count', 'rate']\n",
    "\n",
    "# empty list\n",
    "data = []\n",
    "count = 0\n",
    "table = soup.find(\"table\", {\"table table-striped table-bordered table-sm\"})#.findAll('tr')\n",
    "for element in table.findAll(\"tr\"):\n",
    "    count += 1\n",
    "    if count > 29: # first 29 rows are not needed\n",
    "        # find cells containing td\n",
    "        cells = element.findAll(\"td\")\n",
    "        info = [cell.text for cell in cells] # get the cell text\n",
    "        data.append(info) # append to data list\n"
   ]
  },
  {
   "cell_type": "code",
   "execution_count": 111,
   "metadata": {},
   "outputs": [],
   "source": [
    "df = pd.DataFrame(data, columns= column,) # convert to dataframe\n",
    "df = df[df.rate != '--'] # drop select records\n",
    "#df.to_csv(\"county.csv\", encoding='utf-8', index=False)"
   ]
  },
  {
   "cell_type": "code",
   "execution_count": 115,
   "metadata": {},
   "outputs": [],
   "source": [
    "# handle empty cells, they are not read as NaN by default\n",
    "df['rate'].replace('', np.nan, inplace=True)\n",
    "# now they can be deleted\n",
    "df.dropna(subset=['rate'], inplace=True)"
   ]
  },
  {
   "cell_type": "code",
   "execution_count": 117,
   "metadata": {},
   "outputs": [
    {
     "data": {
      "text/html": [
       "<div>\n",
       "<style scoped>\n",
       "    .dataframe tbody tr th:only-of-type {\n",
       "        vertical-align: middle;\n",
       "    }\n",
       "\n",
       "    .dataframe tbody tr th {\n",
       "        vertical-align: top;\n",
       "    }\n",
       "\n",
       "    .dataframe thead th {\n",
       "        text-align: right;\n",
       "    }\n",
       "</style>\n",
       "<table border=\"1\" class=\"dataframe\">\n",
       "  <thead>\n",
       "    <tr style=\"text-align: right;\">\n",
       "      <th></th>\n",
       "      <th>location</th>\n",
       "      <th>count</th>\n",
       "      <th>rate</th>\n",
       "    </tr>\n",
       "  </thead>\n",
       "  <tbody>\n",
       "    <tr>\n",
       "      <th>114</th>\n",
       "      <td>Los Angeles - Hancock Park</td>\n",
       "      <td>33</td>\n",
       "      <td>200.91</td>\n",
       "    </tr>\n",
       "    <tr>\n",
       "      <th>82</th>\n",
       "      <td>Los Angeles - Beverly Crest</td>\n",
       "      <td>23</td>\n",
       "      <td>185.56</td>\n",
       "    </tr>\n",
       "    <tr>\n",
       "      <th>88</th>\n",
       "      <td>Los Angeles - Carthay</td>\n",
       "      <td>24</td>\n",
       "      <td>178.86</td>\n",
       "    </tr>\n",
       "    <tr>\n",
       "      <th>97</th>\n",
       "      <td>Los Angeles - Crestview</td>\n",
       "      <td>20</td>\n",
       "      <td>174.73</td>\n",
       "    </tr>\n",
       "    <tr>\n",
       "      <th>158</th>\n",
       "      <td>Los Angeles - South Carthay</td>\n",
       "      <td>17</td>\n",
       "      <td>160.44</td>\n",
       "    </tr>\n",
       "    <tr>\n",
       "      <th>81</th>\n",
       "      <td>Los Angeles - Bel Air</td>\n",
       "      <td>13</td>\n",
       "      <td>158.19</td>\n",
       "    </tr>\n",
       "    <tr>\n",
       "      <th>90</th>\n",
       "      <td>Los Angeles - Century City</td>\n",
       "      <td>19</td>\n",
       "      <td>156.87</td>\n",
       "    </tr>\n",
       "    <tr>\n",
       "      <th>136</th>\n",
       "      <td>Los Angeles - Melrose</td>\n",
       "      <td>121</td>\n",
       "      <td>155.86</td>\n",
       "    </tr>\n",
       "    <tr>\n",
       "      <th>77</th>\n",
       "      <td>Los Angeles - Adams-Normandie</td>\n",
       "      <td>12</td>\n",
       "      <td>141.39</td>\n",
       "    </tr>\n",
       "    <tr>\n",
       "      <th>85</th>\n",
       "      <td>Los Angeles - Brentwood</td>\n",
       "      <td>44</td>\n",
       "      <td>140.72</td>\n",
       "    </tr>\n",
       "  </tbody>\n",
       "</table>\n",
       "</div>"
      ],
      "text/plain": [
       "                          location  count    rate\n",
       "114     Los Angeles - Hancock Park     33  200.91\n",
       "82     Los Angeles - Beverly Crest     23  185.56\n",
       "88           Los Angeles - Carthay     24  178.86\n",
       "97         Los Angeles - Crestview     20  174.73\n",
       "158    Los Angeles - South Carthay     17  160.44\n",
       "81           Los Angeles - Bel Air     13  158.19\n",
       "90      Los Angeles - Century City     19  156.87\n",
       "136          Los Angeles - Melrose    121  155.86\n",
       "77   Los Angeles - Adams-Normandie     12  141.39\n",
       "85         Los Angeles - Brentwood     44  140.72"
      ]
     },
     "execution_count": 117,
     "metadata": {},
     "output_type": "execute_result"
    }
   ],
   "source": [
    "df.to_csv(\"county.csv\", encoding='utf-8', index=False)\n",
    "df = pd.read_csv('county.csv', index_col=False)\n",
    "#df.to_csv(\"county.csv\", encoding='utf-8', index=False)\n",
    "df2=df[df['location'].apply(lambda x: x.startswith('Los Angeles -'))]\n",
    "df2.rate.astype(float)\n",
    "df2 = df2.sort_values(by='rate',ascending=False)\n",
    "\n",
    "df2.head(10)"
   ]
  },
  {
   "cell_type": "code",
   "execution_count": null,
   "metadata": {},
   "outputs": [],
   "source": []
  },
  {
   "cell_type": "markdown",
   "metadata": {},
   "source": [
    "## To be continued"
   ]
  },
  {
   "cell_type": "code",
   "execution_count": null,
   "metadata": {},
   "outputs": [],
   "source": []
  },
  {
   "cell_type": "markdown",
   "metadata": {},
   "source": [
    "## foo"
   ]
  },
  {
   "cell_type": "code",
   "execution_count": null,
   "metadata": {},
   "outputs": [],
   "source": []
  },
  {
   "cell_type": "markdown",
   "metadata": {},
   "source": [
    "# bar"
   ]
  },
  {
   "cell_type": "markdown",
   "metadata": {},
   "source": [
    "## Explicitly convert Dat field to date"
   ]
  },
  {
   "cell_type": "code",
   "execution_count": null,
   "metadata": {},
   "outputs": [],
   "source": [
    " "
   ]
  },
  {
   "cell_type": "code",
   "execution_count": null,
   "metadata": {},
   "outputs": [],
   "source": []
  },
  {
   "cell_type": "code",
   "execution_count": null,
   "metadata": {},
   "outputs": [],
   "source": []
  },
  {
   "cell_type": "markdown",
   "metadata": {},
   "source": []
  },
  {
   "cell_type": "code",
   "execution_count": null,
   "metadata": {},
   "outputs": [],
   "source": []
  },
  {
   "cell_type": "markdown",
   "metadata": {},
   "source": []
  },
  {
   "cell_type": "code",
   "execution_count": null,
   "metadata": {},
   "outputs": [],
   "source": []
  },
  {
   "cell_type": "markdown",
   "metadata": {},
   "source": []
  },
  {
   "cell_type": "code",
   "execution_count": null,
   "metadata": {},
   "outputs": [],
   "source": []
  },
  {
   "cell_type": "code",
   "execution_count": null,
   "metadata": {},
   "outputs": [],
   "source": []
  },
  {
   "cell_type": "markdown",
   "metadata": {},
   "source": [
    "## Again, explicitly set date"
   ]
  },
  {
   "cell_type": "code",
   "execution_count": null,
   "metadata": {},
   "outputs": [],
   "source": []
  },
  {
   "cell_type": "markdown",
   "metadata": {},
   "source": [
    "# Create plot with seaborn"
   ]
  },
  {
   "cell_type": "code",
   "execution_count": null,
   "metadata": {},
   "outputs": [],
   "source": []
  },
  {
   "cell_type": "code",
   "execution_count": null,
   "metadata": {},
   "outputs": [],
   "source": [
    " "
   ]
  }
 ],
 "metadata": {
  "kernelspec": {
   "display_name": "Python 3",
   "language": "python",
   "name": "python3"
  },
  "language_info": {
   "codemirror_mode": {
    "name": "ipython",
    "version": 3
   },
   "file_extension": ".py",
   "mimetype": "text/x-python",
   "name": "python",
   "nbconvert_exporter": "python",
   "pygments_lexer": "ipython3",
   "version": "3.7.3"
  }
 },
 "nbformat": 4,
 "nbformat_minor": 2
}
