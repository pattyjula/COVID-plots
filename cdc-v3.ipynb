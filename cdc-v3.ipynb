{
 "cells": [
  {
   "cell_type": "markdown",
   "metadata": {},
   "source": [
    "# Webscraping from CDC COVID-19 Site and Creating Plot\n",
    "- Patty Jula, author\n",
    "\n",
    "The CDC has been providing daily counts of the number of cases and deaths in the United States from COVID-19. This script provides a way to download the day's counts, load to a database, in this case a CSV, and create a plot. \n",
    "## Note:\n",
    "This type of webscraping is only available from sites that reveal their source code. The best practice is to ask permission before scraping so an organization's servers are not overloaded."
   ]
  },
  {
   "cell_type": "code",
   "execution_count": 216,
   "metadata": {},
   "outputs": [],
   "source": [
    "# Dependencies\n",
    "from bs4 import BeautifulSoup\n",
    "import pandas as pd\n",
    "import numpy as np\n",
    "import matplotlib.pyplot as plt\n",
    "import seaborn as sns\n",
    "%matplotlib inline\n",
    "from matplotlib import rcParams\n",
    "import numpy as np\n",
    "import matplotlib.ticker as mtick"
   ]
  },
  {
   "cell_type": "code",
   "execution_count": 217,
   "metadata": {},
   "outputs": [],
   "source": [
    "# Boilerplate code\n",
    "url = 'http://www.cdc.gov/coronavirus/2019-ncov/cases-updates/cases-in-us.html'\n",
    "res = requests.get(url)\n",
    "html_page = res.content"
   ]
  },
  {
   "cell_type": "markdown",
   "metadata": {},
   "source": [
    "## Parse through the html"
   ]
  },
  {
   "cell_type": "code",
   "execution_count": 218,
   "metadata": {},
   "outputs": [],
   "source": [
    "soup = BeautifulSoup(html_page, 'html.parser')\n",
    "#print(soup.prettify())"
   ]
  },
  {
   "cell_type": "markdown",
   "metadata": {},
   "source": [
    "## Load data to a Pandas dataframe"
   ]
  },
  {
   "cell_type": "code",
   "execution_count": 219,
   "metadata": {},
   "outputs": [
    {
     "name": "stdout",
     "output_type": "stream",
     "text": [
      "Total cases: 186,101\n",
      "Total deaths: 3,603\n",
      "Jurisdictions reporting cases: 55 (50 states, District of Columbia, Puerto Rico, Guam, the Northern Mariana Islands, and the U.S. Virgin Islands)\n"
     ]
    }
   ],
   "source": [
    "\n",
    "column = ['Prelim']\n",
    "\n",
    "\n",
    "data = []\n",
    "data_raw = soup.find(\"div\", {\"class\": \"card-body bg-white\"}).findAll('ul')\n",
    "#print(data_raw)\n",
    "for row in data_raw:\n",
    "    items = []\n",
    "    data = []\n",
    "    x = 1\n",
    "    for element in row.findAll('li'):\n",
    "        if x <= 1:\n",
    "            print(element.text)\n",
    "            items.append(element.text)\n",
    "            data.append(element.text)\n",
    "        else:\n",
    "            break\n",
    "        x =+ 1\n",
    "        #data.append(items)\n",
    "        #print(data)\n",
    "\n",
    "df = pd.DataFrame(data, columns=column)\n",
    "#df.head()"
   ]
  },
  {
   "cell_type": "markdown",
   "metadata": {},
   "source": [
    "## Format dataframe"
   ]
  },
  {
   "cell_type": "code",
   "execution_count": 220,
   "metadata": {},
   "outputs": [
    {
     "data": {
      "text/html": [
       "<div>\n",
       "<style scoped>\n",
       "    .dataframe tbody tr th:only-of-type {\n",
       "        vertical-align: middle;\n",
       "    }\n",
       "\n",
       "    .dataframe tbody tr th {\n",
       "        vertical-align: top;\n",
       "    }\n",
       "\n",
       "    .dataframe thead th {\n",
       "        text-align: right;\n",
       "    }\n",
       "</style>\n",
       "<table border=\"1\" class=\"dataframe\">\n",
       "  <thead>\n",
       "    <tr style=\"text-align: right;\">\n",
       "      <th></th>\n",
       "      <th>type</th>\n",
       "      <th>count</th>\n",
       "    </tr>\n",
       "  </thead>\n",
       "  <tbody>\n",
       "    <tr>\n",
       "      <th>0</th>\n",
       "      <td>Total cases</td>\n",
       "      <td>186,101</td>\n",
       "    </tr>\n",
       "    <tr>\n",
       "      <th>1</th>\n",
       "      <td>Total deaths</td>\n",
       "      <td>3,603</td>\n",
       "    </tr>\n",
       "  </tbody>\n",
       "</table>\n",
       "</div>"
      ],
      "text/plain": [
       "           type     count\n",
       "0   Total cases   186,101\n",
       "1  Total deaths     3,603"
      ]
     },
     "execution_count": 220,
     "metadata": {},
     "output_type": "execute_result"
    }
   ],
   "source": [
    "df['type'] =  df['Prelim'].str.split(':').str[0]\n",
    "df['count'] =  df['Prelim'].str.split(':').str[1]\n",
    "df = df.drop(df.index[2])\n",
    "del df['Prelim']\n",
    "df.head()"
   ]
  },
  {
   "cell_type": "markdown",
   "metadata": {},
   "source": [
    "## Add day's date to dataframe"
   ]
  },
  {
   "cell_type": "code",
   "execution_count": 221,
   "metadata": {},
   "outputs": [],
   "source": [
    "import datetime\n",
    "def today_date():\n",
    "    '''\n",
    "    utils:\n",
    "    get the datetime of today\n",
    "    '''\n",
    "    date=datetime.datetime.now().date()\n",
    "    date=pd.to_datetime(date)\n",
    "    return date\n",
    "df['Date'] = today_date()\n"
   ]
  },
  {
   "cell_type": "markdown",
   "metadata": {},
   "source": [
    "# Additional data wrangling"
   ]
  },
  {
   "cell_type": "markdown",
   "metadata": {},
   "source": [
    "## Explicitly convert Dat field to date"
   ]
  },
  {
   "cell_type": "code",
   "execution_count": 222,
   "metadata": {},
   "outputs": [
    {
     "data": {
      "text/html": [
       "<div>\n",
       "<style scoped>\n",
       "    .dataframe tbody tr th:only-of-type {\n",
       "        vertical-align: middle;\n",
       "    }\n",
       "\n",
       "    .dataframe tbody tr th {\n",
       "        vertical-align: top;\n",
       "    }\n",
       "\n",
       "    .dataframe thead th {\n",
       "        text-align: right;\n",
       "    }\n",
       "</style>\n",
       "<table border=\"1\" class=\"dataframe\">\n",
       "  <thead>\n",
       "    <tr style=\"text-align: right;\">\n",
       "      <th></th>\n",
       "      <th>type</th>\n",
       "      <th>count</th>\n",
       "      <th>Date</th>\n",
       "    </tr>\n",
       "  </thead>\n",
       "  <tbody>\n",
       "    <tr>\n",
       "      <th>0</th>\n",
       "      <td>Total cases</td>\n",
       "      <td>186101</td>\n",
       "      <td>2020-04-01</td>\n",
       "    </tr>\n",
       "    <tr>\n",
       "      <th>1</th>\n",
       "      <td>Total deaths</td>\n",
       "      <td>3603</td>\n",
       "      <td>2020-04-01</td>\n",
       "    </tr>\n",
       "  </tbody>\n",
       "</table>\n",
       "</div>"
      ],
      "text/plain": [
       "           type   count        Date\n",
       "0   Total cases  186101  2020-04-01\n",
       "1  Total deaths    3603  2020-04-01"
      ]
     },
     "execution_count": 222,
     "metadata": {},
     "output_type": "execute_result"
    }
   ],
   "source": [
    "df['Date'] = pd.to_datetime(df['Date']).dt.date\n",
    "df['count'] = df['count'].str.replace(',', '').astype(int)\n",
    "df.head()"
   ]
  },
  {
   "cell_type": "code",
   "execution_count": null,
   "metadata": {},
   "outputs": [],
   "source": []
  },
  {
   "cell_type": "code",
   "execution_count": null,
   "metadata": {},
   "outputs": [],
   "source": []
  },
  {
   "cell_type": "markdown",
   "metadata": {},
   "source": [
    "## Now let's deal with existing database"
   ]
  },
  {
   "cell_type": "code",
   "execution_count": 223,
   "metadata": {},
   "outputs": [
    {
     "data": {
      "text/html": [
       "<div>\n",
       "<style scoped>\n",
       "    .dataframe tbody tr th:only-of-type {\n",
       "        vertical-align: middle;\n",
       "    }\n",
       "\n",
       "    .dataframe tbody tr th {\n",
       "        vertical-align: top;\n",
       "    }\n",
       "\n",
       "    .dataframe thead th {\n",
       "        text-align: right;\n",
       "    }\n",
       "</style>\n",
       "<table border=\"1\" class=\"dataframe\">\n",
       "  <thead>\n",
       "    <tr style=\"text-align: right;\">\n",
       "      <th></th>\n",
       "      <th>Date</th>\n",
       "      <th>Unnamed: 0</th>\n",
       "      <th>count</th>\n",
       "      <th>type</th>\n",
       "    </tr>\n",
       "  </thead>\n",
       "  <tbody>\n",
       "    <tr>\n",
       "      <th>0</th>\n",
       "      <td>2020-03-27</td>\n",
       "      <td>2.0</td>\n",
       "      <td>85356</td>\n",
       "      <td>Total cases</td>\n",
       "    </tr>\n",
       "    <tr>\n",
       "      <th>1</th>\n",
       "      <td>2020-03-27</td>\n",
       "      <td>3.0</td>\n",
       "      <td>1246</td>\n",
       "      <td>Total deaths</td>\n",
       "    </tr>\n",
       "    <tr>\n",
       "      <th>2</th>\n",
       "      <td>2020-03-31</td>\n",
       "      <td>0.0</td>\n",
       "      <td>163539</td>\n",
       "      <td>Total cases</td>\n",
       "    </tr>\n",
       "    <tr>\n",
       "      <th>3</th>\n",
       "      <td>2020-03-31</td>\n",
       "      <td>1.0</td>\n",
       "      <td>2860</td>\n",
       "      <td>Total deaths</td>\n",
       "    </tr>\n",
       "    <tr>\n",
       "      <th>4</th>\n",
       "      <td>2020-04-01</td>\n",
       "      <td>NaN</td>\n",
       "      <td>186101</td>\n",
       "      <td>Total cases</td>\n",
       "    </tr>\n",
       "  </tbody>\n",
       "</table>\n",
       "</div>"
      ],
      "text/plain": [
       "        Date  Unnamed: 0   count          type\n",
       "0 2020-03-27         2.0   85356   Total cases\n",
       "1 2020-03-27         3.0    1246  Total deaths\n",
       "2 2020-03-31         0.0  163539   Total cases\n",
       "3 2020-03-31         1.0    2860  Total deaths\n",
       "4 2020-04-01         NaN  186101   Total cases"
      ]
     },
     "execution_count": 223,
     "metadata": {},
     "output_type": "execute_result"
    }
   ],
   "source": [
    "\n",
    "dfDB = pd.read_csv(\"storage.csv\", parse_dates=['Date'], dayfirst=True)\n",
    "dfDB.set_index('Date')\n",
    "dfDB.head()"
   ]
  },
  {
   "cell_type": "markdown",
   "metadata": {},
   "source": [
    "## If current day's date is already in database, delete it"
   ]
  },
  {
   "cell_type": "code",
   "execution_count": 224,
   "metadata": {},
   "outputs": [
    {
     "name": "stdout",
     "output_type": "stream",
     "text": [
      "Found\n",
      "Found\n"
     ]
    }
   ],
   "source": [
    "for index, row in dfDB.iterrows():\n",
    "    #print(row['Date'])\n",
    "    if row['Date'] == today_date():\n",
    "        print('Found')\n",
    "        dfDB.drop(index, inplace=True)\n",
    "    else:\n",
    "        pass"
   ]
  },
  {
   "cell_type": "markdown",
   "metadata": {},
   "source": [
    "## Then let's add the newly scraped data to the database"
   ]
  },
  {
   "cell_type": "code",
   "execution_count": 225,
   "metadata": {},
   "outputs": [
    {
     "data": {
      "text/html": [
       "<div>\n",
       "<style scoped>\n",
       "    .dataframe tbody tr th:only-of-type {\n",
       "        vertical-align: middle;\n",
       "    }\n",
       "\n",
       "    .dataframe tbody tr th {\n",
       "        vertical-align: top;\n",
       "    }\n",
       "\n",
       "    .dataframe thead th {\n",
       "        text-align: right;\n",
       "    }\n",
       "</style>\n",
       "<table border=\"1\" class=\"dataframe\">\n",
       "  <thead>\n",
       "    <tr style=\"text-align: right;\">\n",
       "      <th></th>\n",
       "      <th>Date</th>\n",
       "      <th>Unnamed: 0</th>\n",
       "      <th>count</th>\n",
       "      <th>type</th>\n",
       "    </tr>\n",
       "  </thead>\n",
       "  <tbody>\n",
       "    <tr>\n",
       "      <th>0</th>\n",
       "      <td>2020-03-27</td>\n",
       "      <td>2.0</td>\n",
       "      <td>85356</td>\n",
       "      <td>Total cases</td>\n",
       "    </tr>\n",
       "    <tr>\n",
       "      <th>1</th>\n",
       "      <td>2020-03-27</td>\n",
       "      <td>3.0</td>\n",
       "      <td>1246</td>\n",
       "      <td>Total deaths</td>\n",
       "    </tr>\n",
       "    <tr>\n",
       "      <th>2</th>\n",
       "      <td>2020-03-31</td>\n",
       "      <td>0.0</td>\n",
       "      <td>163539</td>\n",
       "      <td>Total cases</td>\n",
       "    </tr>\n",
       "    <tr>\n",
       "      <th>3</th>\n",
       "      <td>2020-03-31</td>\n",
       "      <td>1.0</td>\n",
       "      <td>2860</td>\n",
       "      <td>Total deaths</td>\n",
       "    </tr>\n",
       "    <tr>\n",
       "      <th>4</th>\n",
       "      <td>2020-04-01</td>\n",
       "      <td>NaN</td>\n",
       "      <td>186101</td>\n",
       "      <td>Total cases</td>\n",
       "    </tr>\n",
       "    <tr>\n",
       "      <th>5</th>\n",
       "      <td>2020-04-01</td>\n",
       "      <td>NaN</td>\n",
       "      <td>3603</td>\n",
       "      <td>Total deaths</td>\n",
       "    </tr>\n",
       "  </tbody>\n",
       "</table>\n",
       "</div>"
      ],
      "text/plain": [
       "         Date  Unnamed: 0   count          type\n",
       "0  2020-03-27         2.0   85356   Total cases\n",
       "1  2020-03-27         3.0    1246  Total deaths\n",
       "2  2020-03-31         0.0  163539   Total cases\n",
       "3  2020-03-31         1.0    2860  Total deaths\n",
       "4  2020-04-01         NaN  186101   Total cases\n",
       "5  2020-04-01         NaN    3603  Total deaths"
      ]
     },
     "execution_count": 225,
     "metadata": {},
     "output_type": "execute_result"
    }
   ],
   "source": [
    "df= dfDB.append(df, ignore_index = True,sort=True)\n",
    "df['Date'] = pd.to_datetime(df['Date']).dt.date\n",
    "df = df.sort_values(by='Date',ascending=True)\n",
    "#del df['Unnamed: 0']\n",
    "df.head(10)"
   ]
  },
  {
   "cell_type": "code",
   "execution_count": 226,
   "metadata": {},
   "outputs": [],
   "source": [
    "df.to_csv(\"storage.csv\", encoding='utf-8', index=False)"
   ]
  },
  {
   "cell_type": "markdown",
   "metadata": {},
   "source": [
    "## Again, explicitly set date"
   ]
  },
  {
   "cell_type": "code",
   "execution_count": 227,
   "metadata": {},
   "outputs": [],
   "source": [
    "df['Date'] = pd.to_datetime(df['Date']).dt.date"
   ]
  },
  {
   "cell_type": "markdown",
   "metadata": {},
   "source": [
    "# Create plot with seaborn"
   ]
  },
  {
   "cell_type": "code",
   "execution_count": 228,
   "metadata": {},
   "outputs": [
    {
     "data": {
      "image/png": "[encoded data removed]",
      "text/plain": [
       "<Figure size 432x288 with 1 Axes>"
      ]
     },
     "metadata": {},
     "output_type": "display_data"
    }
   ],
   "source": [
    "#sns.set(style=\"whitegrid\")\n",
    "sns.set_style('darkgrid')\n",
    "fig, ax = plt.subplots()\n",
    "rcParams['figure.figsize'] = 11.7,8.27\n",
    "sns.set_style(\"ticks\", {\"xtick.major.size\": 8, \"ytick.major.size\": 8})\n",
    "\n",
    "# bar lot\n",
    "ax = sns.barplot(x=\"Date\", y=\"count\", hue= 'type', data=df, palette =\"colorblind\")#, color= 'Set2')\n",
    "# Label values\n",
    "# \"%.0f\"\n",
    "for p in ax.patches:\n",
    "    #y = int(\"count\")\n",
    "    ax.annotate(\"%.0f\" % p.get_height(), (p.get_x() + p.get_width() / 2, p.get_height()),\n",
    "        ha='center', va='center', fontsize=12, color='gray', xytext=(0, 15),\n",
    "        textcoords='offset points')\n",
    "sns.color_palette(\"Set2\")\n",
    "fmt = '{x:,.0f}'\n",
    "tick = mtick.StrMethodFormatter(fmt)\n",
    "ax.yaxis.set_major_formatter(tick) \n",
    "plt.xticks(rotation=45)\n",
    "plt.title(\"COVID Case Counts and Deaths in the U.S. by Date\", size = 16)\n",
    "plt.xlabel(\"Date\", size = 13)\n",
    "plt.ylabel(\"Count\", size = 13)\n",
    "plt.tight_layout()\n",
    "ax.set(ylim=(10, 200000))\n",
    "plt.figtext(0.99, 0.01, 'Source: \"Cases in U.S. | CDC\" website', horizontalalignment='right') \n",
    "plt.savefig('data.png', dpi=600) \n",
    "plt.show()"
   ]
  },
  {
   "cell_type": "code",
   "execution_count": null,
   "metadata": {},
   "outputs": [],
   "source": [
    " "
   ]
  }
 ],
 "metadata": {
  "kernelspec": {
   "display_name": "Python 3",
   "language": "python",
   "name": "python3"
  },
  "language_info": {
   "codemirror_mode": {
    "name": "ipython",
    "version": 3
   },
   "file_extension": ".py",
   "mimetype": "text/x-python",
   "name": "python",
   "nbconvert_exporter": "python",
   "pygments_lexer": "ipython3",
   "version": "3.7.3"
  }
 },
 "nbformat": 4,
 "nbformat_minor": 2
}
